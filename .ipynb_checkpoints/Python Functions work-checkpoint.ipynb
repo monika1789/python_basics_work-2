{
 "cells": [
  {
   "cell_type": "code",
   "execution_count": 4,
   "id": "332930a8",
   "metadata": {},
   "outputs": [
    {
     "data": {
      "text/plain": [
       "[1, 5, 8, 9]"
      ]
     },
     "execution_count": 4,
     "metadata": {},
     "output_type": "execute_result"
    }
   ],
   "source": [
    "# Given a list as a parameter,write a function that returns a list of numbers that are less than ten\n",
    "\n",
    "\n",
    "# For example: Say your input parameter to the function is [1,11,14,5,8,9]...Your output should [1,5,8,9]\n",
    "\n",
    "# # Use the following list - [1,11,14,5,8,9]\n",
    "\n",
    "def list_numbers(numbers):\n",
    "       new_list=[]\n",
    "       for i in numbers:\n",
    "            if i < 10:\n",
    "              new_list.append(i)\n",
    "       return new_list\n",
    "   \n",
    "numbers = [1,11,14,5,8,9]\n",
    "list_numbers(numbers)\n",
    "        "
   ]
  },
  {
   "cell_type": "code",
   "execution_count": 5,
   "id": "e4c347bb",
   "metadata": {},
   "outputs": [
    {
     "name": "stdout",
     "output_type": "stream",
     "text": [
      "[1, 2, 3, 3, 4, 4, 5, 5, 6, 6, 7, 8, 10]\n"
     ]
    }
   ],
   "source": [
    "# Write a function that takes in two lists and returns the two lists merged together and sorted\n",
    "# Hint: You can use the .sort() method\n",
    "\n",
    "def lists_numbers(list_1,list_2):\n",
    "    new_list_num=[]   \n",
    "    new_list_num=(list_1 + list_2)\n",
    "    new_list_num.sort()\n",
    "    return new_list_num\n",
    "    \n",
    "   \n",
    "list_1 = [1,2,3,4,5,6]\n",
    "list_2 = [3,4,5,6,7,8,10]\n",
    "print(lists_numbers(list_1,list_2))\n",
    "\n",
    "\n",
    "\n"
   ]
  },
  {
   "cell_type": "code",
   "execution_count": null,
   "id": "fbcaaeea",
   "metadata": {},
   "outputs": [],
   "source": []
  }
 ],
 "metadata": {
  "kernelspec": {
   "display_name": "Python 3 (ipykernel)",
   "language": "python",
   "name": "python3"
  },
  "language_info": {
   "codemirror_mode": {
    "name": "ipython",
    "version": 3
   },
   "file_extension": ".py",
   "mimetype": "text/x-python",
   "name": "python",
   "nbconvert_exporter": "python",
   "pygments_lexer": "ipython3",
   "version": "3.9.7"
  }
 },
 "nbformat": 4,
 "nbformat_minor": 5
}
